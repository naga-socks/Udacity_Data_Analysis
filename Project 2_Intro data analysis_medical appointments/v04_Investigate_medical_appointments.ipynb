{
 "cells": [
  {
   "cell_type": "markdown",
   "metadata": {},
   "source": [
    "<font color='blue'>\n",
    "\n",
    "* Name: Jhonatan Nagasako\n",
    "* Date: 22-FEB-2021\n",
    "* Purpose: Udacity - Project 3\n",
    "    * Analyze A/B Test Results\n",
    "\n",
    "</font>\n",
    "\n",
    "# Project: Investigate a Dataset of No-Show Appointments (in Brazil)\n",
    "\n",
    "## Table of Contents\n",
    "<ul>\n",
    "<li><a href=\"#intro\">Introduction</a></li>\n",
    "<li><a href=\"#wrangling\">Data Wrangling</a></li>\n",
    "<li><a href=\"#eda\">Exploratory Data Analysis</a></li>\n",
    "<li><a href=\"#conclusions\">Conclusions</a></li>\n",
    "</ul>"
   ]
  },
  {
   "cell_type": "markdown",
   "metadata": {},
   "source": [
    "<a id='intro'></a>\n",
    "## Introduction"
   ]
  },
  {
   "cell_type": "markdown",
   "metadata": {},
   "source": [
    "<font color='blue'>\n",
    "    \n",
    "This dataset collects information from 100k medical appointments in Brazil and is focused on the question of whether or not patients show up for their appointment. A number of characteristics about the patient are included in each row.\n",
    "\n",
    "* ‘ScheduledDay’ tells us on what day the patient set up their appointment.\n",
    "* ‘Neighborhood’ indicates the location of the hospital.\n",
    "* ‘Scholarship’ indicates whether or not the patient is enrolled in Brasilian welfare program Bolsa Família.\n",
    "* Be careful about the encoding of the last column: it says ‘No’ if the patient showed up to their appointment, and ‘Yes' if they did not show up\n",
    "\n",
    "**Questions that will be addressed:**\n",
    "1. What factors are imporant for us to know in order to predict if a patient will show up for their scheduled appointment?\n",
    "        a. SCHOLARSHP vs SMS text vs Gender?\n",
    "        b. What illness contributes the greatest affect to no-shows?\n",
    "\n",
    "**Independent variables - Inputs**\n",
    "1. Scholarship (boolean)\n",
    "2. SMS Text message (boolean)\n",
    "3. Type of Illness (boolean)\n",
    "\n",
    "**Dependent variable - Output**\n",
    "1. Will patient be a No-show? (boolean)\n",
    " \n",
    "</font>"
   ]
  },
  {
   "cell_type": "code",
   "execution_count": 1,
   "metadata": {},
   "outputs": [],
   "source": [
    "# Use this cell to set up import statements for all of the packages that you\n",
    "#   plan to use.\n",
    "\n",
    "import pandas as pd\n",
    "import numpy as np\n",
    "import matplotlib.pyplot as plt \n",
    "import seaborn as sns\n",
    "import statsmodels.api as sm;\n",
    "\n",
    "\n",
    "# Remember to include a 'magic word' so that your visualizations are plotted\n",
    "#   inline with the notebook. See this page for more:\n",
    "#   http://ipython.readthedocs.io/en/stable/interactive/magics.html\n",
    "\n",
    "%matplotlib inline"
   ]
  },
  {
   "cell_type": "markdown",
   "metadata": {},
   "source": [
    "<a id='wrangling'></a>\n",
    "## Data Wrangling\n",
    "    \n",
    "### General Properties"
   ]
  },
  {
   "cell_type": "code",
   "execution_count": 2,
   "metadata": {},
   "outputs": [
    {
     "data": {
      "text/html": [
       "<div>\n",
       "<style scoped>\n",
       "    .dataframe tbody tr th:only-of-type {\n",
       "        vertical-align: middle;\n",
       "    }\n",
       "\n",
       "    .dataframe tbody tr th {\n",
       "        vertical-align: top;\n",
       "    }\n",
       "\n",
       "    .dataframe thead th {\n",
       "        text-align: right;\n",
       "    }\n",
       "</style>\n",
       "<table border=\"1\" class=\"dataframe\">\n",
       "  <thead>\n",
       "    <tr style=\"text-align: right;\">\n",
       "      <th></th>\n",
       "      <th>PatientId</th>\n",
       "      <th>AppointmentID</th>\n",
       "      <th>Gender</th>\n",
       "      <th>ScheduledDay</th>\n",
       "      <th>AppointmentDay</th>\n",
       "      <th>Age</th>\n",
       "      <th>Neighbourhood</th>\n",
       "      <th>Scholarship</th>\n",
       "      <th>Hipertension</th>\n",
       "      <th>Diabetes</th>\n",
       "      <th>Alcoholism</th>\n",
       "      <th>Handcap</th>\n",
       "      <th>SMS_received</th>\n",
       "      <th>No-show</th>\n",
       "    </tr>\n",
       "  </thead>\n",
       "  <tbody>\n",
       "    <tr>\n",
       "      <th>0</th>\n",
       "      <td>2.987250e+13</td>\n",
       "      <td>5642903</td>\n",
       "      <td>F</td>\n",
       "      <td>2016-04-29T18:38:08Z</td>\n",
       "      <td>2016-04-29T00:00:00Z</td>\n",
       "      <td>62</td>\n",
       "      <td>JARDIM DA PENHA</td>\n",
       "      <td>0</td>\n",
       "      <td>1</td>\n",
       "      <td>0</td>\n",
       "      <td>0</td>\n",
       "      <td>0</td>\n",
       "      <td>0</td>\n",
       "      <td>No</td>\n",
       "    </tr>\n",
       "    <tr>\n",
       "      <th>1</th>\n",
       "      <td>5.589978e+14</td>\n",
       "      <td>5642503</td>\n",
       "      <td>M</td>\n",
       "      <td>2016-04-29T16:08:27Z</td>\n",
       "      <td>2016-04-29T00:00:00Z</td>\n",
       "      <td>56</td>\n",
       "      <td>JARDIM DA PENHA</td>\n",
       "      <td>0</td>\n",
       "      <td>0</td>\n",
       "      <td>0</td>\n",
       "      <td>0</td>\n",
       "      <td>0</td>\n",
       "      <td>0</td>\n",
       "      <td>No</td>\n",
       "    </tr>\n",
       "    <tr>\n",
       "      <th>2</th>\n",
       "      <td>4.262962e+12</td>\n",
       "      <td>5642549</td>\n",
       "      <td>F</td>\n",
       "      <td>2016-04-29T16:19:04Z</td>\n",
       "      <td>2016-04-29T00:00:00Z</td>\n",
       "      <td>62</td>\n",
       "      <td>MATA DA PRAIA</td>\n",
       "      <td>0</td>\n",
       "      <td>0</td>\n",
       "      <td>0</td>\n",
       "      <td>0</td>\n",
       "      <td>0</td>\n",
       "      <td>0</td>\n",
       "      <td>No</td>\n",
       "    </tr>\n",
       "    <tr>\n",
       "      <th>3</th>\n",
       "      <td>8.679512e+11</td>\n",
       "      <td>5642828</td>\n",
       "      <td>F</td>\n",
       "      <td>2016-04-29T17:29:31Z</td>\n",
       "      <td>2016-04-29T00:00:00Z</td>\n",
       "      <td>8</td>\n",
       "      <td>PONTAL DE CAMBURI</td>\n",
       "      <td>0</td>\n",
       "      <td>0</td>\n",
       "      <td>0</td>\n",
       "      <td>0</td>\n",
       "      <td>0</td>\n",
       "      <td>0</td>\n",
       "      <td>No</td>\n",
       "    </tr>\n",
       "    <tr>\n",
       "      <th>4</th>\n",
       "      <td>8.841186e+12</td>\n",
       "      <td>5642494</td>\n",
       "      <td>F</td>\n",
       "      <td>2016-04-29T16:07:23Z</td>\n",
       "      <td>2016-04-29T00:00:00Z</td>\n",
       "      <td>56</td>\n",
       "      <td>JARDIM DA PENHA</td>\n",
       "      <td>0</td>\n",
       "      <td>1</td>\n",
       "      <td>1</td>\n",
       "      <td>0</td>\n",
       "      <td>0</td>\n",
       "      <td>0</td>\n",
       "      <td>No</td>\n",
       "    </tr>\n",
       "  </tbody>\n",
       "</table>\n",
       "</div>"
      ],
      "text/plain": [
       "      PatientId  AppointmentID Gender          ScheduledDay  \\\n",
       "0  2.987250e+13        5642903      F  2016-04-29T18:38:08Z   \n",
       "1  5.589978e+14        5642503      M  2016-04-29T16:08:27Z   \n",
       "2  4.262962e+12        5642549      F  2016-04-29T16:19:04Z   \n",
       "3  8.679512e+11        5642828      F  2016-04-29T17:29:31Z   \n",
       "4  8.841186e+12        5642494      F  2016-04-29T16:07:23Z   \n",
       "\n",
       "         AppointmentDay  Age      Neighbourhood  Scholarship  Hipertension  \\\n",
       "0  2016-04-29T00:00:00Z   62    JARDIM DA PENHA            0             1   \n",
       "1  2016-04-29T00:00:00Z   56    JARDIM DA PENHA            0             0   \n",
       "2  2016-04-29T00:00:00Z   62      MATA DA PRAIA            0             0   \n",
       "3  2016-04-29T00:00:00Z    8  PONTAL DE CAMBURI            0             0   \n",
       "4  2016-04-29T00:00:00Z   56    JARDIM DA PENHA            0             1   \n",
       "\n",
       "   Diabetes  Alcoholism  Handcap  SMS_received No-show  \n",
       "0         0           0        0             0      No  \n",
       "1         0           0        0             0      No  \n",
       "2         0           0        0             0      No  \n",
       "3         0           0        0             0      No  \n",
       "4         1           0        0             0      No  "
      ]
     },
     "execution_count": 2,
     "metadata": {},
     "output_type": "execute_result"
    }
   ],
   "source": [
    "# Load your data and print out a few lines. Perform operations to inspect data\n",
    "#   types and look for instances of missing or possibly errant data.\n",
    "\n",
    "df = pd.read_csv('noshowappointments-kagglev2-may-2016.csv')\n",
    "\n",
    "df.head(5)"
   ]
  },
  {
   "cell_type": "code",
   "execution_count": 3,
   "metadata": {},
   "outputs": [
    {
     "name": "stdout",
     "output_type": "stream",
     "text": [
      "<class 'pandas.core.frame.DataFrame'>\n",
      "RangeIndex: 110527 entries, 0 to 110526\n",
      "Data columns (total 14 columns):\n",
      " #   Column          Non-Null Count   Dtype  \n",
      "---  ------          --------------   -----  \n",
      " 0   PatientId       110527 non-null  float64\n",
      " 1   AppointmentID   110527 non-null  int64  \n",
      " 2   Gender          110527 non-null  object \n",
      " 3   ScheduledDay    110527 non-null  object \n",
      " 4   AppointmentDay  110527 non-null  object \n",
      " 5   Age             110527 non-null  int64  \n",
      " 6   Neighbourhood   110527 non-null  object \n",
      " 7   Scholarship     110527 non-null  int64  \n",
      " 8   Hipertension    110527 non-null  int64  \n",
      " 9   Diabetes        110527 non-null  int64  \n",
      " 10  Alcoholism      110527 non-null  int64  \n",
      " 11  Handcap         110527 non-null  int64  \n",
      " 12  SMS_received    110527 non-null  int64  \n",
      " 13  No-show         110527 non-null  object \n",
      "dtypes: float64(1), int64(8), object(5)\n",
      "memory usage: 11.8+ MB\n"
     ]
    }
   ],
   "source": [
    "# Any missing information? NO\n",
    "df.info()\n"
   ]
  },
  {
   "cell_type": "code",
   "execution_count": 4,
   "metadata": {},
   "outputs": [
    {
     "data": {
      "text/html": [
       "<div>\n",
       "<style scoped>\n",
       "    .dataframe tbody tr th:only-of-type {\n",
       "        vertical-align: middle;\n",
       "    }\n",
       "\n",
       "    .dataframe tbody tr th {\n",
       "        vertical-align: top;\n",
       "    }\n",
       "\n",
       "    .dataframe thead th {\n",
       "        text-align: right;\n",
       "    }\n",
       "</style>\n",
       "<table border=\"1\" class=\"dataframe\">\n",
       "  <thead>\n",
       "    <tr style=\"text-align: right;\">\n",
       "      <th></th>\n",
       "      <th>PatientId</th>\n",
       "      <th>AppointmentID</th>\n",
       "      <th>Gender</th>\n",
       "      <th>ScheduledDay</th>\n",
       "      <th>AppointmentDay</th>\n",
       "      <th>Age</th>\n",
       "      <th>Neighbourhood</th>\n",
       "      <th>Scholarship</th>\n",
       "      <th>Hipertension</th>\n",
       "      <th>Diabetes</th>\n",
       "      <th>Alcoholism</th>\n",
       "      <th>Handcap</th>\n",
       "      <th>SMS_received</th>\n",
       "      <th>No-show</th>\n",
       "    </tr>\n",
       "  </thead>\n",
       "  <tbody>\n",
       "    <tr>\n",
       "      <th>88585</th>\n",
       "      <td>2.263866e+07</td>\n",
       "      <td>5715081</td>\n",
       "      <td>F</td>\n",
       "      <td>2016-05-18T13:37:12Z</td>\n",
       "      <td>2016-06-08T00:00:00Z</td>\n",
       "      <td>23</td>\n",
       "      <td>INHANGUETÁ</td>\n",
       "      <td>0</td>\n",
       "      <td>0</td>\n",
       "      <td>0</td>\n",
       "      <td>0</td>\n",
       "      <td>0</td>\n",
       "      <td>1</td>\n",
       "      <td>No</td>\n",
       "    </tr>\n",
       "    <tr>\n",
       "      <th>83628</th>\n",
       "      <td>5.216894e+07</td>\n",
       "      <td>5704816</td>\n",
       "      <td>F</td>\n",
       "      <td>2016-05-16T16:42:19Z</td>\n",
       "      <td>2016-05-16T00:00:00Z</td>\n",
       "      <td>28</td>\n",
       "      <td>JARDIM DA PENHA</td>\n",
       "      <td>0</td>\n",
       "      <td>0</td>\n",
       "      <td>0</td>\n",
       "      <td>0</td>\n",
       "      <td>0</td>\n",
       "      <td>0</td>\n",
       "      <td>No</td>\n",
       "    </tr>\n",
       "    <tr>\n",
       "      <th>11009</th>\n",
       "      <td>6.485121e+07</td>\n",
       "      <td>5683383</td>\n",
       "      <td>F</td>\n",
       "      <td>2016-05-11T07:28:23Z</td>\n",
       "      <td>2016-05-13T00:00:00Z</td>\n",
       "      <td>29</td>\n",
       "      <td>MARUÍPE</td>\n",
       "      <td>0</td>\n",
       "      <td>0</td>\n",
       "      <td>0</td>\n",
       "      <td>0</td>\n",
       "      <td>0</td>\n",
       "      <td>0</td>\n",
       "      <td>Yes</td>\n",
       "    </tr>\n",
       "    <tr>\n",
       "      <th>89371</th>\n",
       "      <td>7.922850e+07</td>\n",
       "      <td>5743266</td>\n",
       "      <td>F</td>\n",
       "      <td>2016-05-30T08:51:07Z</td>\n",
       "      <td>2016-06-08T00:00:00Z</td>\n",
       "      <td>21</td>\n",
       "      <td>NOVA PALESTINA</td>\n",
       "      <td>0</td>\n",
       "      <td>0</td>\n",
       "      <td>0</td>\n",
       "      <td>0</td>\n",
       "      <td>0</td>\n",
       "      <td>1</td>\n",
       "      <td>No</td>\n",
       "    </tr>\n",
       "    <tr>\n",
       "      <th>105577</th>\n",
       "      <td>8.799645e+07</td>\n",
       "      <td>5786272</td>\n",
       "      <td>M</td>\n",
       "      <td>2016-06-08T08:12:09Z</td>\n",
       "      <td>2016-06-08T00:00:00Z</td>\n",
       "      <td>3</td>\n",
       "      <td>ILHA DAS CAIEIRAS</td>\n",
       "      <td>0</td>\n",
       "      <td>0</td>\n",
       "      <td>0</td>\n",
       "      <td>0</td>\n",
       "      <td>0</td>\n",
       "      <td>0</td>\n",
       "      <td>No</td>\n",
       "    </tr>\n",
       "    <tr>\n",
       "      <th>...</th>\n",
       "      <td>...</td>\n",
       "      <td>...</td>\n",
       "      <td>...</td>\n",
       "      <td>...</td>\n",
       "      <td>...</td>\n",
       "      <td>...</td>\n",
       "      <td>...</td>\n",
       "      <td>...</td>\n",
       "      <td>...</td>\n",
       "      <td>...</td>\n",
       "      <td>...</td>\n",
       "      <td>...</td>\n",
       "      <td>...</td>\n",
       "      <td>...</td>\n",
       "    </tr>\n",
       "    <tr>\n",
       "      <th>88851</th>\n",
       "      <td>9.998774e+14</td>\n",
       "      <td>5777078</td>\n",
       "      <td>M</td>\n",
       "      <td>2016-06-06T12:56:18Z</td>\n",
       "      <td>2016-06-06T00:00:00Z</td>\n",
       "      <td>13</td>\n",
       "      <td>SANTO ANTÔNIO</td>\n",
       "      <td>0</td>\n",
       "      <td>0</td>\n",
       "      <td>0</td>\n",
       "      <td>0</td>\n",
       "      <td>0</td>\n",
       "      <td>0</td>\n",
       "      <td>No</td>\n",
       "    </tr>\n",
       "    <tr>\n",
       "      <th>32033</th>\n",
       "      <td>9.999320e+14</td>\n",
       "      <td>5736368</td>\n",
       "      <td>M</td>\n",
       "      <td>2016-05-25T08:14:58Z</td>\n",
       "      <td>2016-05-25T00:00:00Z</td>\n",
       "      <td>90</td>\n",
       "      <td>JABOUR</td>\n",
       "      <td>0</td>\n",
       "      <td>0</td>\n",
       "      <td>0</td>\n",
       "      <td>0</td>\n",
       "      <td>0</td>\n",
       "      <td>0</td>\n",
       "      <td>No</td>\n",
       "    </tr>\n",
       "    <tr>\n",
       "      <th>104616</th>\n",
       "      <td>9.999320e+14</td>\n",
       "      <td>5772701</td>\n",
       "      <td>M</td>\n",
       "      <td>2016-06-03T16:04:03Z</td>\n",
       "      <td>2016-06-07T00:00:00Z</td>\n",
       "      <td>90</td>\n",
       "      <td>JABOUR</td>\n",
       "      <td>0</td>\n",
       "      <td>0</td>\n",
       "      <td>0</td>\n",
       "      <td>0</td>\n",
       "      <td>0</td>\n",
       "      <td>1</td>\n",
       "      <td>No</td>\n",
       "    </tr>\n",
       "    <tr>\n",
       "      <th>62194</th>\n",
       "      <td>9.999320e+14</td>\n",
       "      <td>5616762</td>\n",
       "      <td>M</td>\n",
       "      <td>2016-04-25T14:46:41Z</td>\n",
       "      <td>2016-05-04T00:00:00Z</td>\n",
       "      <td>90</td>\n",
       "      <td>JABOUR</td>\n",
       "      <td>0</td>\n",
       "      <td>0</td>\n",
       "      <td>0</td>\n",
       "      <td>0</td>\n",
       "      <td>0</td>\n",
       "      <td>1</td>\n",
       "      <td>No</td>\n",
       "    </tr>\n",
       "    <tr>\n",
       "      <th>62099</th>\n",
       "      <td>9.999320e+14</td>\n",
       "      <td>5700484</td>\n",
       "      <td>M</td>\n",
       "      <td>2016-05-16T09:29:43Z</td>\n",
       "      <td>2016-05-17T00:00:00Z</td>\n",
       "      <td>90</td>\n",
       "      <td>JABOUR</td>\n",
       "      <td>0</td>\n",
       "      <td>0</td>\n",
       "      <td>0</td>\n",
       "      <td>0</td>\n",
       "      <td>0</td>\n",
       "      <td>0</td>\n",
       "      <td>No</td>\n",
       "    </tr>\n",
       "  </tbody>\n",
       "</table>\n",
       "<p>48228 rows × 14 columns</p>\n",
       "</div>"
      ],
      "text/plain": [
       "           PatientId  AppointmentID Gender          ScheduledDay  \\\n",
       "88585   2.263866e+07        5715081      F  2016-05-18T13:37:12Z   \n",
       "83628   5.216894e+07        5704816      F  2016-05-16T16:42:19Z   \n",
       "11009   6.485121e+07        5683383      F  2016-05-11T07:28:23Z   \n",
       "89371   7.922850e+07        5743266      F  2016-05-30T08:51:07Z   \n",
       "105577  8.799645e+07        5786272      M  2016-06-08T08:12:09Z   \n",
       "...              ...            ...    ...                   ...   \n",
       "88851   9.998774e+14        5777078      M  2016-06-06T12:56:18Z   \n",
       "32033   9.999320e+14        5736368      M  2016-05-25T08:14:58Z   \n",
       "104616  9.999320e+14        5772701      M  2016-06-03T16:04:03Z   \n",
       "62194   9.999320e+14        5616762      M  2016-04-25T14:46:41Z   \n",
       "62099   9.999320e+14        5700484      M  2016-05-16T09:29:43Z   \n",
       "\n",
       "              AppointmentDay  Age      Neighbourhood  Scholarship  \\\n",
       "88585   2016-06-08T00:00:00Z   23         INHANGUETÁ            0   \n",
       "83628   2016-05-16T00:00:00Z   28    JARDIM DA PENHA            0   \n",
       "11009   2016-05-13T00:00:00Z   29            MARUÍPE            0   \n",
       "89371   2016-06-08T00:00:00Z   21     NOVA PALESTINA            0   \n",
       "105577  2016-06-08T00:00:00Z    3  ILHA DAS CAIEIRAS            0   \n",
       "...                      ...  ...                ...          ...   \n",
       "88851   2016-06-06T00:00:00Z   13      SANTO ANTÔNIO            0   \n",
       "32033   2016-05-25T00:00:00Z   90             JABOUR            0   \n",
       "104616  2016-06-07T00:00:00Z   90             JABOUR            0   \n",
       "62194   2016-05-04T00:00:00Z   90             JABOUR            0   \n",
       "62099   2016-05-17T00:00:00Z   90             JABOUR            0   \n",
       "\n",
       "        Hipertension  Diabetes  Alcoholism  Handcap  SMS_received No-show  \n",
       "88585              0         0           0        0             1      No  \n",
       "83628              0         0           0        0             0      No  \n",
       "11009              0         0           0        0             0     Yes  \n",
       "89371              0         0           0        0             1      No  \n",
       "105577             0         0           0        0             0      No  \n",
       "...              ...       ...         ...      ...           ...     ...  \n",
       "88851              0         0           0        0             0      No  \n",
       "32033              0         0           0        0             0      No  \n",
       "104616             0         0           0        0             1      No  \n",
       "62194              0         0           0        0             1      No  \n",
       "62099              0         0           0        0             0      No  \n",
       "\n",
       "[48228 rows x 14 columns]"
      ]
     },
     "execution_count": 4,
     "metadata": {},
     "output_type": "execute_result"
    }
   ],
   "source": [
    "# duplicate PatientId information? Yes, so lets take a closer look and assess quickly for this exploration phase\n",
    "# duplicateRowsPatientId = df.duplicated(subset=['PatientId'])\n",
    "\n",
    "duplicateRowsPatientId = df[df.duplicated(['PatientId'])]\n",
    "duplicateRowsPatientId.sort_values('PatientId')\n",
    "\n",
    "#df.describe()"
   ]
  },
  {
   "cell_type": "markdown",
   "metadata": {},
   "source": [
    "<font color='blue'>\n",
    "    \n",
    "### **QUALITY**\n",
    "1. Assess and remove duplicated ```PatientId``` values\n",
    "\n",
    "### **TIDINESS**\n",
    "1. Headers need to be updated\n",
    "        a. `Hipertension` change to `Hypertension`\n",
    "        b. `Handcap` change to `Handicap`\n",
    "2. Convert variables Yes/No (or Male/Female) to 1/0, respectively\n",
    "        a. `No-show`\n",
    "        b. `Gender`\n",
    "\n",
    "</font>"
   ]
  },
  {
   "cell_type": "markdown",
   "metadata": {
    "collapsed": true
   },
   "source": [
    "### Data Cleaning (Replace this with more specific notes!)\n",
    "\n",
    "#### Data Structure Review\n",
    "There are quality improvements that are needed for this dataset. Specifically addressing the duplicate information in the ```PatientId``` column. After review, this duplicate information will be removed because of scope of this project. The focus will be on 1st time offenders (if any) that resulted with the \"no-show\" to their appoints--based on the independent variables mentioned above."
   ]
  },
  {
   "cell_type": "markdown",
   "metadata": {},
   "source": [
    "<font color='blue'>\n",
    "    \n",
    "##### **QUALITY - CLEANING**\n",
    "1. Assess and remove duplicated ```PatientId``` values\n",
    "\n",
    "</font>"
   ]
  },
  {
   "cell_type": "code",
   "execution_count": 5,
   "metadata": {},
   "outputs": [
    {
     "data": {
      "text/html": [
       "<div>\n",
       "<style scoped>\n",
       "    .dataframe tbody tr th:only-of-type {\n",
       "        vertical-align: middle;\n",
       "    }\n",
       "\n",
       "    .dataframe tbody tr th {\n",
       "        vertical-align: top;\n",
       "    }\n",
       "\n",
       "    .dataframe thead th {\n",
       "        text-align: right;\n",
       "    }\n",
       "</style>\n",
       "<table border=\"1\" class=\"dataframe\">\n",
       "  <thead>\n",
       "    <tr style=\"text-align: right;\">\n",
       "      <th></th>\n",
       "      <th>PatientId</th>\n",
       "      <th>AppointmentID</th>\n",
       "      <th>Gender</th>\n",
       "      <th>ScheduledDay</th>\n",
       "      <th>AppointmentDay</th>\n",
       "      <th>Age</th>\n",
       "      <th>Neighbourhood</th>\n",
       "      <th>Scholarship</th>\n",
       "      <th>Hipertension</th>\n",
       "      <th>Diabetes</th>\n",
       "      <th>Alcoholism</th>\n",
       "      <th>Handcap</th>\n",
       "      <th>SMS_received</th>\n",
       "      <th>No-show</th>\n",
       "    </tr>\n",
       "  </thead>\n",
       "  <tbody>\n",
       "    <tr>\n",
       "      <th>88585</th>\n",
       "      <td>22638656.0</td>\n",
       "      <td>5715081</td>\n",
       "      <td>F</td>\n",
       "      <td>2016-05-18T13:37:12Z</td>\n",
       "      <td>2016-06-08T00:00:00Z</td>\n",
       "      <td>23</td>\n",
       "      <td>INHANGUETÁ</td>\n",
       "      <td>0</td>\n",
       "      <td>0</td>\n",
       "      <td>0</td>\n",
       "      <td>0</td>\n",
       "      <td>0</td>\n",
       "      <td>1</td>\n",
       "      <td>No</td>\n",
       "    </tr>\n",
       "    <tr>\n",
       "      <th>83628</th>\n",
       "      <td>52168938.0</td>\n",
       "      <td>5704816</td>\n",
       "      <td>F</td>\n",
       "      <td>2016-05-16T16:42:19Z</td>\n",
       "      <td>2016-05-16T00:00:00Z</td>\n",
       "      <td>28</td>\n",
       "      <td>JARDIM DA PENHA</td>\n",
       "      <td>0</td>\n",
       "      <td>0</td>\n",
       "      <td>0</td>\n",
       "      <td>0</td>\n",
       "      <td>0</td>\n",
       "      <td>0</td>\n",
       "      <td>No</td>\n",
       "    </tr>\n",
       "    <tr>\n",
       "      <th>11009</th>\n",
       "      <td>64851211.0</td>\n",
       "      <td>5683383</td>\n",
       "      <td>F</td>\n",
       "      <td>2016-05-11T07:28:23Z</td>\n",
       "      <td>2016-05-13T00:00:00Z</td>\n",
       "      <td>29</td>\n",
       "      <td>MARUÍPE</td>\n",
       "      <td>0</td>\n",
       "      <td>0</td>\n",
       "      <td>0</td>\n",
       "      <td>0</td>\n",
       "      <td>0</td>\n",
       "      <td>0</td>\n",
       "      <td>Yes</td>\n",
       "    </tr>\n",
       "    <tr>\n",
       "      <th>89371</th>\n",
       "      <td>79228495.0</td>\n",
       "      <td>5743266</td>\n",
       "      <td>F</td>\n",
       "      <td>2016-05-30T08:51:07Z</td>\n",
       "      <td>2016-06-08T00:00:00Z</td>\n",
       "      <td>21</td>\n",
       "      <td>NOVA PALESTINA</td>\n",
       "      <td>0</td>\n",
       "      <td>0</td>\n",
       "      <td>0</td>\n",
       "      <td>0</td>\n",
       "      <td>0</td>\n",
       "      <td>1</td>\n",
       "      <td>No</td>\n",
       "    </tr>\n",
       "    <tr>\n",
       "      <th>105577</th>\n",
       "      <td>87996454.0</td>\n",
       "      <td>5786272</td>\n",
       "      <td>M</td>\n",
       "      <td>2016-06-08T08:12:09Z</td>\n",
       "      <td>2016-06-08T00:00:00Z</td>\n",
       "      <td>3</td>\n",
       "      <td>ILHA DAS CAIEIRAS</td>\n",
       "      <td>0</td>\n",
       "      <td>0</td>\n",
       "      <td>0</td>\n",
       "      <td>0</td>\n",
       "      <td>0</td>\n",
       "      <td>0</td>\n",
       "      <td>No</td>\n",
       "    </tr>\n",
       "  </tbody>\n",
       "</table>\n",
       "</div>"
      ],
      "text/plain": [
       "         PatientId  AppointmentID Gender          ScheduledDay  \\\n",
       "88585   22638656.0        5715081      F  2016-05-18T13:37:12Z   \n",
       "83628   52168938.0        5704816      F  2016-05-16T16:42:19Z   \n",
       "11009   64851211.0        5683383      F  2016-05-11T07:28:23Z   \n",
       "89371   79228495.0        5743266      F  2016-05-30T08:51:07Z   \n",
       "105577  87996454.0        5786272      M  2016-06-08T08:12:09Z   \n",
       "\n",
       "              AppointmentDay  Age      Neighbourhood  Scholarship  \\\n",
       "88585   2016-06-08T00:00:00Z   23         INHANGUETÁ            0   \n",
       "83628   2016-05-16T00:00:00Z   28    JARDIM DA PENHA            0   \n",
       "11009   2016-05-13T00:00:00Z   29            MARUÍPE            0   \n",
       "89371   2016-06-08T00:00:00Z   21     NOVA PALESTINA            0   \n",
       "105577  2016-06-08T00:00:00Z    3  ILHA DAS CAIEIRAS            0   \n",
       "\n",
       "        Hipertension  Diabetes  Alcoholism  Handcap  SMS_received No-show  \n",
       "88585              0         0           0        0             1      No  \n",
       "83628              0         0           0        0             0      No  \n",
       "11009              0         0           0        0             0     Yes  \n",
       "89371              0         0           0        0             1      No  \n",
       "105577             0         0           0        0             0      No  "
      ]
     },
     "execution_count": 5,
     "metadata": {},
     "output_type": "execute_result"
    }
   ],
   "source": [
    "# drop duplicate values of PatientId and assign to df_clean\n",
    "\n",
    "# before cleaning\n",
    "duplicateRowsPatientId = df[df.duplicated(['PatientId'])]\n",
    "\n",
    "# sort by PatientId\n",
    "duplicateRowsPatientId = duplicateRowsPatientId.sort_values('PatientId')\n",
    "duplicateRowsPatientId.head()"
   ]
  },
  {
   "cell_type": "code",
   "execution_count": 6,
   "metadata": {},
   "outputs": [
    {
     "data": {
      "text/html": [
       "<div>\n",
       "<style scoped>\n",
       "    .dataframe tbody tr th:only-of-type {\n",
       "        vertical-align: middle;\n",
       "    }\n",
       "\n",
       "    .dataframe tbody tr th {\n",
       "        vertical-align: top;\n",
       "    }\n",
       "\n",
       "    .dataframe thead th {\n",
       "        text-align: right;\n",
       "    }\n",
       "</style>\n",
       "<table border=\"1\" class=\"dataframe\">\n",
       "  <thead>\n",
       "    <tr style=\"text-align: right;\">\n",
       "      <th></th>\n",
       "      <th>PatientId</th>\n",
       "      <th>AppointmentID</th>\n",
       "      <th>Gender</th>\n",
       "      <th>ScheduledDay</th>\n",
       "      <th>AppointmentDay</th>\n",
       "      <th>Age</th>\n",
       "      <th>Neighbourhood</th>\n",
       "      <th>Scholarship</th>\n",
       "      <th>Hipertension</th>\n",
       "      <th>Diabetes</th>\n",
       "      <th>Alcoholism</th>\n",
       "      <th>Handcap</th>\n",
       "      <th>SMS_received</th>\n",
       "      <th>No-show</th>\n",
       "    </tr>\n",
       "  </thead>\n",
       "  <tbody>\n",
       "    <tr>\n",
       "      <th>0</th>\n",
       "      <td>2.987250e+13</td>\n",
       "      <td>5642903</td>\n",
       "      <td>F</td>\n",
       "      <td>2016-04-29T18:38:08Z</td>\n",
       "      <td>2016-04-29T00:00:00Z</td>\n",
       "      <td>62</td>\n",
       "      <td>JARDIM DA PENHA</td>\n",
       "      <td>0</td>\n",
       "      <td>1</td>\n",
       "      <td>0</td>\n",
       "      <td>0</td>\n",
       "      <td>0</td>\n",
       "      <td>0</td>\n",
       "      <td>No</td>\n",
       "    </tr>\n",
       "    <tr>\n",
       "      <th>1</th>\n",
       "      <td>5.589978e+14</td>\n",
       "      <td>5642503</td>\n",
       "      <td>M</td>\n",
       "      <td>2016-04-29T16:08:27Z</td>\n",
       "      <td>2016-04-29T00:00:00Z</td>\n",
       "      <td>56</td>\n",
       "      <td>JARDIM DA PENHA</td>\n",
       "      <td>0</td>\n",
       "      <td>0</td>\n",
       "      <td>0</td>\n",
       "      <td>0</td>\n",
       "      <td>0</td>\n",
       "      <td>0</td>\n",
       "      <td>No</td>\n",
       "    </tr>\n",
       "    <tr>\n",
       "      <th>2</th>\n",
       "      <td>4.262962e+12</td>\n",
       "      <td>5642549</td>\n",
       "      <td>F</td>\n",
       "      <td>2016-04-29T16:19:04Z</td>\n",
       "      <td>2016-04-29T00:00:00Z</td>\n",
       "      <td>62</td>\n",
       "      <td>MATA DA PRAIA</td>\n",
       "      <td>0</td>\n",
       "      <td>0</td>\n",
       "      <td>0</td>\n",
       "      <td>0</td>\n",
       "      <td>0</td>\n",
       "      <td>0</td>\n",
       "      <td>No</td>\n",
       "    </tr>\n",
       "    <tr>\n",
       "      <th>3</th>\n",
       "      <td>8.679512e+11</td>\n",
       "      <td>5642828</td>\n",
       "      <td>F</td>\n",
       "      <td>2016-04-29T17:29:31Z</td>\n",
       "      <td>2016-04-29T00:00:00Z</td>\n",
       "      <td>8</td>\n",
       "      <td>PONTAL DE CAMBURI</td>\n",
       "      <td>0</td>\n",
       "      <td>0</td>\n",
       "      <td>0</td>\n",
       "      <td>0</td>\n",
       "      <td>0</td>\n",
       "      <td>0</td>\n",
       "      <td>No</td>\n",
       "    </tr>\n",
       "    <tr>\n",
       "      <th>4</th>\n",
       "      <td>8.841186e+12</td>\n",
       "      <td>5642494</td>\n",
       "      <td>F</td>\n",
       "      <td>2016-04-29T16:07:23Z</td>\n",
       "      <td>2016-04-29T00:00:00Z</td>\n",
       "      <td>56</td>\n",
       "      <td>JARDIM DA PENHA</td>\n",
       "      <td>0</td>\n",
       "      <td>1</td>\n",
       "      <td>1</td>\n",
       "      <td>0</td>\n",
       "      <td>0</td>\n",
       "      <td>0</td>\n",
       "      <td>No</td>\n",
       "    </tr>\n",
       "  </tbody>\n",
       "</table>\n",
       "</div>"
      ],
      "text/plain": [
       "      PatientId  AppointmentID Gender          ScheduledDay  \\\n",
       "0  2.987250e+13        5642903      F  2016-04-29T18:38:08Z   \n",
       "1  5.589978e+14        5642503      M  2016-04-29T16:08:27Z   \n",
       "2  4.262962e+12        5642549      F  2016-04-29T16:19:04Z   \n",
       "3  8.679512e+11        5642828      F  2016-04-29T17:29:31Z   \n",
       "4  8.841186e+12        5642494      F  2016-04-29T16:07:23Z   \n",
       "\n",
       "         AppointmentDay  Age      Neighbourhood  Scholarship  Hipertension  \\\n",
       "0  2016-04-29T00:00:00Z   62    JARDIM DA PENHA            0             1   \n",
       "1  2016-04-29T00:00:00Z   56    JARDIM DA PENHA            0             0   \n",
       "2  2016-04-29T00:00:00Z   62      MATA DA PRAIA            0             0   \n",
       "3  2016-04-29T00:00:00Z    8  PONTAL DE CAMBURI            0             0   \n",
       "4  2016-04-29T00:00:00Z   56    JARDIM DA PENHA            0             1   \n",
       "\n",
       "   Diabetes  Alcoholism  Handcap  SMS_received No-show  \n",
       "0         0           0        0             0      No  \n",
       "1         0           0        0             0      No  \n",
       "2         0           0        0             0      No  \n",
       "3         0           0        0             0      No  \n",
       "4         1           0        0             0      No  "
      ]
     },
     "execution_count": 6,
     "metadata": {},
     "output_type": "execute_result"
    }
   ],
   "source": [
    "# after cleaning - not that we do NOT want to keep last occurrences--only the first occurrences for this project scope\n",
    "df_clean = df.drop_duplicates(subset=['PatientId'])\n",
    "df_clean.head()"
   ]
  },
  {
   "cell_type": "code",
   "execution_count": 7,
   "metadata": {},
   "outputs": [
    {
     "name": "stdout",
     "output_type": "stream",
     "text": [
      "The number of unique PatientID = 62299\n",
      "The number of entires in the original dataset (before cleaning) = 110527\n",
      "The number of entires in the original dataset (before cleaning) = 62299\n"
     ]
    }
   ],
   "source": [
    "#Confirmation that dataset is still operational -- no excessive lost of information\n",
    "# Review the number of unique PatientId in original list\n",
    "print('The number of unique PatientID =', df.PatientId.nunique())\n",
    "\n",
    "# Review number of entries in PatientID - before cleaning\n",
    "print('The number of entires in the original dataset (before cleaning) =', len(df.index))\n",
    "\n",
    "# Review number of entries in PatientID - AFTER cleaning\n",
    "print('The number of entires in the original dataset (before cleaning) =', len(df_clean.index))"
   ]
  },
  {
   "cell_type": "markdown",
   "metadata": {},
   "source": [
    "<font color='blue'>\n",
    "\n",
    "##### **TIDINESS - CLEANING**\n",
    "1. Headers need to be updated\n",
    "        a. `Hipertension` change to `Hypertension`\n",
    "        b. `Handcap` change to `Handicap`\n",
    "2. Convert variables Yes/No (or Male/Female) to 1/0, respectively\n",
    "        a. `No-show`\n",
    "        b. `Gender`\n",
    "    \n",
    "</font>"
   ]
  },
  {
   "cell_type": "code",
   "execution_count": 8,
   "metadata": {},
   "outputs": [
    {
     "data": {
      "text/html": [
       "<div>\n",
       "<style scoped>\n",
       "    .dataframe tbody tr th:only-of-type {\n",
       "        vertical-align: middle;\n",
       "    }\n",
       "\n",
       "    .dataframe tbody tr th {\n",
       "        vertical-align: top;\n",
       "    }\n",
       "\n",
       "    .dataframe thead th {\n",
       "        text-align: right;\n",
       "    }\n",
       "</style>\n",
       "<table border=\"1\" class=\"dataframe\">\n",
       "  <thead>\n",
       "    <tr style=\"text-align: right;\">\n",
       "      <th></th>\n",
       "      <th>PatientId</th>\n",
       "      <th>AppointmentID</th>\n",
       "      <th>Gender</th>\n",
       "      <th>ScheduledDay</th>\n",
       "      <th>AppointmentDay</th>\n",
       "      <th>Age</th>\n",
       "      <th>Neighbourhood</th>\n",
       "      <th>Scholarship</th>\n",
       "      <th>Hipertension</th>\n",
       "      <th>Diabetes</th>\n",
       "      <th>Alcoholism</th>\n",
       "      <th>Handcap</th>\n",
       "      <th>SMS_received</th>\n",
       "      <th>No-show</th>\n",
       "    </tr>\n",
       "  </thead>\n",
       "  <tbody>\n",
       "    <tr>\n",
       "      <th>0</th>\n",
       "      <td>2.987250e+13</td>\n",
       "      <td>5642903</td>\n",
       "      <td>F</td>\n",
       "      <td>2016-04-29T18:38:08Z</td>\n",
       "      <td>2016-04-29T00:00:00Z</td>\n",
       "      <td>62</td>\n",
       "      <td>JARDIM DA PENHA</td>\n",
       "      <td>0</td>\n",
       "      <td>1</td>\n",
       "      <td>0</td>\n",
       "      <td>0</td>\n",
       "      <td>0</td>\n",
       "      <td>0</td>\n",
       "      <td>No</td>\n",
       "    </tr>\n",
       "  </tbody>\n",
       "</table>\n",
       "</div>"
      ],
      "text/plain": [
       "      PatientId  AppointmentID Gender          ScheduledDay  \\\n",
       "0  2.987250e+13        5642903      F  2016-04-29T18:38:08Z   \n",
       "\n",
       "         AppointmentDay  Age    Neighbourhood  Scholarship  Hipertension  \\\n",
       "0  2016-04-29T00:00:00Z   62  JARDIM DA PENHA            0             1   \n",
       "\n",
       "   Diabetes  Alcoholism  Handcap  SMS_received No-show  \n",
       "0         0           0        0             0      No  "
      ]
     },
     "execution_count": 8,
     "metadata": {},
     "output_type": "execute_result"
    }
   ],
   "source": [
    "# Clean dataset review - before column header changes\n",
    "df_clean.head(1)"
   ]
  },
  {
   "cell_type": "code",
   "execution_count": 9,
   "metadata": {},
   "outputs": [
    {
     "data": {
      "text/html": [
       "<div>\n",
       "<style scoped>\n",
       "    .dataframe tbody tr th:only-of-type {\n",
       "        vertical-align: middle;\n",
       "    }\n",
       "\n",
       "    .dataframe tbody tr th {\n",
       "        vertical-align: top;\n",
       "    }\n",
       "\n",
       "    .dataframe thead th {\n",
       "        text-align: right;\n",
       "    }\n",
       "</style>\n",
       "<table border=\"1\" class=\"dataframe\">\n",
       "  <thead>\n",
       "    <tr style=\"text-align: right;\">\n",
       "      <th></th>\n",
       "      <th>PatientId</th>\n",
       "      <th>AppointmentID</th>\n",
       "      <th>Gender</th>\n",
       "      <th>ScheduledDay</th>\n",
       "      <th>AppointmentDay</th>\n",
       "      <th>Age</th>\n",
       "      <th>Neighbourhood</th>\n",
       "      <th>Scholarship</th>\n",
       "      <th>Hypertension</th>\n",
       "      <th>Diabetes</th>\n",
       "      <th>Alcoholism</th>\n",
       "      <th>Handicap</th>\n",
       "      <th>SMS_received</th>\n",
       "      <th>No-show</th>\n",
       "    </tr>\n",
       "  </thead>\n",
       "  <tbody>\n",
       "    <tr>\n",
       "      <th>0</th>\n",
       "      <td>2.987250e+13</td>\n",
       "      <td>5642903</td>\n",
       "      <td>F</td>\n",
       "      <td>2016-04-29T18:38:08Z</td>\n",
       "      <td>2016-04-29T00:00:00Z</td>\n",
       "      <td>62</td>\n",
       "      <td>JARDIM DA PENHA</td>\n",
       "      <td>0</td>\n",
       "      <td>1</td>\n",
       "      <td>0</td>\n",
       "      <td>0</td>\n",
       "      <td>0</td>\n",
       "      <td>0</td>\n",
       "      <td>No</td>\n",
       "    </tr>\n",
       "  </tbody>\n",
       "</table>\n",
       "</div>"
      ],
      "text/plain": [
       "      PatientId  AppointmentID Gender          ScheduledDay  \\\n",
       "0  2.987250e+13        5642903      F  2016-04-29T18:38:08Z   \n",
       "\n",
       "         AppointmentDay  Age    Neighbourhood  Scholarship  Hypertension  \\\n",
       "0  2016-04-29T00:00:00Z   62  JARDIM DA PENHA            0             1   \n",
       "\n",
       "   Diabetes  Alcoholism  Handicap  SMS_received No-show  \n",
       "0         0           0         0             0      No  "
      ]
     },
     "execution_count": 9,
     "metadata": {},
     "output_type": "execute_result"
    }
   ],
   "source": [
    "# after change\n",
    "df_clean = df.rename({\"Hipertension\":\"Hypertension\",\"Handcap\":\"Handicap\"}, axis='columns') \n",
    "df_clean.head(1)"
   ]
  },
  {
   "cell_type": "code",
   "execution_count": 10,
   "metadata": {},
   "outputs": [
    {
     "name": "stdout",
     "output_type": "stream",
     "text": [
      "The number of Yes/No before cleaning: \n"
     ]
    },
    {
     "data": {
      "text/plain": [
       "No     88208\n",
       "Yes    22319\n",
       "Name: No-show, dtype: int64"
      ]
     },
     "execution_count": 10,
     "metadata": {},
     "output_type": "execute_result"
    }
   ],
   "source": [
    "# Convert No-show variables Yes/No to 1/0, respectively\n",
    "\n",
    "# Check number of Yes/No - before cleaning\n",
    "print('The number of Yes/No before cleaning: ')\n",
    "df_clean['No-show'].value_counts()"
   ]
  },
  {
   "cell_type": "code",
   "execution_count": 11,
   "metadata": {},
   "outputs": [
    {
     "name": "stdout",
     "output_type": "stream",
     "text": [
      "The number of Yes/No AFTER cleaning (Yes/No mapped to 1/0): \n"
     ]
    },
    {
     "data": {
      "text/plain": [
       "0    88208\n",
       "1    22319\n",
       "Name: No-show, dtype: int64"
      ]
     },
     "execution_count": 11,
     "metadata": {},
     "output_type": "execute_result"
    }
   ],
   "source": [
    "df_clean['No-show'] = df_clean['No-show'].map(dict(Yes=1, No=0))\n",
    "\n",
    "print('The number of Yes/No AFTER cleaning (Yes/No mapped to 1/0): ')\n",
    "df_clean['No-show'].value_counts()"
   ]
  },
  {
   "cell_type": "code",
   "execution_count": 12,
   "metadata": {},
   "outputs": [
    {
     "name": "stdout",
     "output_type": "stream",
     "text": [
      "The number of Yes/No AFTER cleaning (Yes/No mapped to 1/0): \n"
     ]
    },
    {
     "data": {
      "text/plain": [
       "0    71840\n",
       "1    38687\n",
       "Name: Gender, dtype: int64"
      ]
     },
     "execution_count": 12,
     "metadata": {},
     "output_type": "execute_result"
    }
   ],
   "source": [
    "df_clean['Gender'] = df_clean['Gender'].map(dict(M=1, F=0))\n",
    "\n",
    "print('The number of Yes/No AFTER cleaning (Yes/No mapped to 1/0): ')\n",
    "df_clean['Gender'].value_counts()"
   ]
  },
  {
   "cell_type": "code",
   "execution_count": 13,
   "metadata": {},
   "outputs": [
    {
     "data": {
      "text/html": [
       "<div>\n",
       "<style scoped>\n",
       "    .dataframe tbody tr th:only-of-type {\n",
       "        vertical-align: middle;\n",
       "    }\n",
       "\n",
       "    .dataframe tbody tr th {\n",
       "        vertical-align: top;\n",
       "    }\n",
       "\n",
       "    .dataframe thead th {\n",
       "        text-align: right;\n",
       "    }\n",
       "</style>\n",
       "<table border=\"1\" class=\"dataframe\">\n",
       "  <thead>\n",
       "    <tr style=\"text-align: right;\">\n",
       "      <th></th>\n",
       "      <th>PatientId</th>\n",
       "      <th>AppointmentID</th>\n",
       "      <th>Gender</th>\n",
       "      <th>ScheduledDay</th>\n",
       "      <th>AppointmentDay</th>\n",
       "      <th>Age</th>\n",
       "      <th>Neighbourhood</th>\n",
       "      <th>Scholarship</th>\n",
       "      <th>Hypertension</th>\n",
       "      <th>Diabetes</th>\n",
       "      <th>Alcoholism</th>\n",
       "      <th>Handicap</th>\n",
       "      <th>SMS_received</th>\n",
       "      <th>No-show</th>\n",
       "    </tr>\n",
       "  </thead>\n",
       "  <tbody>\n",
       "    <tr>\n",
       "      <th>46327</th>\n",
       "      <td>4.649233e+13</td>\n",
       "      <td>5659598</td>\n",
       "      <td>1</td>\n",
       "      <td>2016-05-04T14:18:29Z</td>\n",
       "      <td>2016-05-11T00:00:00Z</td>\n",
       "      <td>40</td>\n",
       "      <td>MARIA ORTIZ</td>\n",
       "      <td>0</td>\n",
       "      <td>0</td>\n",
       "      <td>0</td>\n",
       "      <td>0</td>\n",
       "      <td>0</td>\n",
       "      <td>1</td>\n",
       "      <td>1</td>\n",
       "    </tr>\n",
       "    <tr>\n",
       "      <th>96698</th>\n",
       "      <td>1.443163e+10</td>\n",
       "      <td>5773384</td>\n",
       "      <td>0</td>\n",
       "      <td>2016-06-06T07:09:14Z</td>\n",
       "      <td>2016-06-06T00:00:00Z</td>\n",
       "      <td>16</td>\n",
       "      <td>PIEDADE</td>\n",
       "      <td>0</td>\n",
       "      <td>0</td>\n",
       "      <td>0</td>\n",
       "      <td>0</td>\n",
       "      <td>0</td>\n",
       "      <td>0</td>\n",
       "      <td>0</td>\n",
       "    </tr>\n",
       "    <tr>\n",
       "      <th>95855</th>\n",
       "      <td>5.664933e+13</td>\n",
       "      <td>5783629</td>\n",
       "      <td>0</td>\n",
       "      <td>2016-06-07T14:17:23Z</td>\n",
       "      <td>2016-06-07T00:00:00Z</td>\n",
       "      <td>60</td>\n",
       "      <td>MARIA ORTIZ</td>\n",
       "      <td>0</td>\n",
       "      <td>0</td>\n",
       "      <td>0</td>\n",
       "      <td>0</td>\n",
       "      <td>0</td>\n",
       "      <td>0</td>\n",
       "      <td>0</td>\n",
       "    </tr>\n",
       "    <tr>\n",
       "      <th>30431</th>\n",
       "      <td>9.351195e+12</td>\n",
       "      <td>5637643</td>\n",
       "      <td>1</td>\n",
       "      <td>2016-04-29T07:13:17Z</td>\n",
       "      <td>2016-05-09T00:00:00Z</td>\n",
       "      <td>57</td>\n",
       "      <td>CENTRO</td>\n",
       "      <td>0</td>\n",
       "      <td>0</td>\n",
       "      <td>0</td>\n",
       "      <td>0</td>\n",
       "      <td>0</td>\n",
       "      <td>0</td>\n",
       "      <td>0</td>\n",
       "    </tr>\n",
       "    <tr>\n",
       "      <th>84229</th>\n",
       "      <td>9.796935e+12</td>\n",
       "      <td>5737757</td>\n",
       "      <td>0</td>\n",
       "      <td>2016-05-25T10:00:09Z</td>\n",
       "      <td>2016-06-03T00:00:00Z</td>\n",
       "      <td>44</td>\n",
       "      <td>GOIABEIRAS</td>\n",
       "      <td>0</td>\n",
       "      <td>0</td>\n",
       "      <td>0</td>\n",
       "      <td>0</td>\n",
       "      <td>0</td>\n",
       "      <td>1</td>\n",
       "      <td>0</td>\n",
       "    </tr>\n",
       "  </tbody>\n",
       "</table>\n",
       "</div>"
      ],
      "text/plain": [
       "          PatientId  AppointmentID  Gender          ScheduledDay  \\\n",
       "46327  4.649233e+13        5659598       1  2016-05-04T14:18:29Z   \n",
       "96698  1.443163e+10        5773384       0  2016-06-06T07:09:14Z   \n",
       "95855  5.664933e+13        5783629       0  2016-06-07T14:17:23Z   \n",
       "30431  9.351195e+12        5637643       1  2016-04-29T07:13:17Z   \n",
       "84229  9.796935e+12        5737757       0  2016-05-25T10:00:09Z   \n",
       "\n",
       "             AppointmentDay  Age Neighbourhood  Scholarship  Hypertension  \\\n",
       "46327  2016-05-11T00:00:00Z   40   MARIA ORTIZ            0             0   \n",
       "96698  2016-06-06T00:00:00Z   16       PIEDADE            0             0   \n",
       "95855  2016-06-07T00:00:00Z   60   MARIA ORTIZ            0             0   \n",
       "30431  2016-05-09T00:00:00Z   57        CENTRO            0             0   \n",
       "84229  2016-06-03T00:00:00Z   44    GOIABEIRAS            0             0   \n",
       "\n",
       "       Diabetes  Alcoholism  Handicap  SMS_received  No-show  \n",
       "46327         0           0         0             1        1  \n",
       "96698         0           0         0             0        0  \n",
       "95855         0           0         0             0        0  \n",
       "30431         0           0         0             0        0  \n",
       "84229         0           0         0             1        0  "
      ]
     },
     "execution_count": 13,
     "metadata": {},
     "output_type": "execute_result"
    }
   ],
   "source": [
    "df_clean.sample(5)"
   ]
  },
  {
   "cell_type": "markdown",
   "metadata": {},
   "source": [
    "<a id='eda'></a>\n",
    "## Exploratory Data Analysis\n",
    "<font color='blue'>\n",
    "    \n",
    "**Questions that will be addressed:**\n",
    "1. What factors are imporant for us to know in order to predict if a patient will show up for their scheduled appointment?\n",
    "        a. SCHOLARSHP vs SMS text vs Gender?\n",
    "        b. What illness contributes the greatest affect to no-shows?\n",
    "\n",
    "**Independent variables - Inputs**\n",
    "1. Scholarship (boolean)\n",
    "2. SMS Text message (boolean)\n",
    "3. Types of Illness (boolean), checking every condition\n",
    "\n",
    "**Dependent variable - Output**\n",
    "1. Will patient be a No-show? (boolean) \n",
    "\n",
    "</font>"
   ]
  },
  {
   "cell_type": "markdown",
   "metadata": {},
   "source": [
    "### Research Question 1: How does scholarship affect the no-show probability?\n"
   ]
  },
  {
   "cell_type": "code",
   "execution_count": 14,
   "metadata": {},
   "outputs": [],
   "source": [
    "# Use this, and more code cells, to explore your data. Don't forget to add\n",
    "#   Markdown cells to document your observations and findings.\n",
    "\n",
    "# checkout data using scatter_matrix\n",
    "# pd.plotting.scatter_matrix(df_clean);"
   ]
  },
  {
   "cell_type": "code",
   "execution_count": 15,
   "metadata": {},
   "outputs": [
    {
     "data": {
      "text/html": [
       "<div>\n",
       "<style scoped>\n",
       "    .dataframe tbody tr th:only-of-type {\n",
       "        vertical-align: middle;\n",
       "    }\n",
       "\n",
       "    .dataframe tbody tr th {\n",
       "        vertical-align: top;\n",
       "    }\n",
       "\n",
       "    .dataframe thead th {\n",
       "        text-align: right;\n",
       "    }\n",
       "</style>\n",
       "<table border=\"1\" class=\"dataframe\">\n",
       "  <thead>\n",
       "    <tr style=\"text-align: right;\">\n",
       "      <th></th>\n",
       "      <th>PatientId</th>\n",
       "      <th>AppointmentID</th>\n",
       "      <th>Gender</th>\n",
       "      <th>ScheduledDay</th>\n",
       "      <th>AppointmentDay</th>\n",
       "      <th>Age</th>\n",
       "      <th>Neighbourhood</th>\n",
       "      <th>Scholarship</th>\n",
       "      <th>Hypertension</th>\n",
       "      <th>Diabetes</th>\n",
       "      <th>Alcoholism</th>\n",
       "      <th>Handicap</th>\n",
       "      <th>SMS_received</th>\n",
       "      <th>No-show</th>\n",
       "    </tr>\n",
       "  </thead>\n",
       "  <tbody>\n",
       "    <tr>\n",
       "      <th>0</th>\n",
       "      <td>2.987250e+13</td>\n",
       "      <td>5642903</td>\n",
       "      <td>0</td>\n",
       "      <td>2016-04-29T18:38:08Z</td>\n",
       "      <td>2016-04-29T00:00:00Z</td>\n",
       "      <td>62</td>\n",
       "      <td>JARDIM DA PENHA</td>\n",
       "      <td>0</td>\n",
       "      <td>1</td>\n",
       "      <td>0</td>\n",
       "      <td>0</td>\n",
       "      <td>0</td>\n",
       "      <td>0</td>\n",
       "      <td>0</td>\n",
       "    </tr>\n",
       "  </tbody>\n",
       "</table>\n",
       "</div>"
      ],
      "text/plain": [
       "      PatientId  AppointmentID  Gender          ScheduledDay  \\\n",
       "0  2.987250e+13        5642903       0  2016-04-29T18:38:08Z   \n",
       "\n",
       "         AppointmentDay  Age    Neighbourhood  Scholarship  Hypertension  \\\n",
       "0  2016-04-29T00:00:00Z   62  JARDIM DA PENHA            0             1   \n",
       "\n",
       "   Diabetes  Alcoholism  Handicap  SMS_received  No-show  \n",
       "0         0           0         0             0        0  "
      ]
     },
     "execution_count": 15,
     "metadata": {},
     "output_type": "execute_result"
    }
   ],
   "source": [
    "df_clean.head(1)"
   ]
  },
  {
   "cell_type": "code",
   "execution_count": 16,
   "metadata": {},
   "outputs": [
    {
     "data": {
      "text/html": [
       "<div>\n",
       "<style scoped>\n",
       "    .dataframe tbody tr th:only-of-type {\n",
       "        vertical-align: middle;\n",
       "    }\n",
       "\n",
       "    .dataframe tbody tr th {\n",
       "        vertical-align: top;\n",
       "    }\n",
       "\n",
       "    .dataframe thead th {\n",
       "        text-align: right;\n",
       "    }\n",
       "</style>\n",
       "<table border=\"1\" class=\"dataframe\">\n",
       "  <thead>\n",
       "    <tr style=\"text-align: right;\">\n",
       "      <th></th>\n",
       "      <th>PatientId</th>\n",
       "      <th>AppointmentID</th>\n",
       "      <th>Gender</th>\n",
       "      <th>Age</th>\n",
       "      <th>Scholarship</th>\n",
       "      <th>Hypertension</th>\n",
       "      <th>Diabetes</th>\n",
       "      <th>Alcoholism</th>\n",
       "      <th>Handicap</th>\n",
       "      <th>SMS_received</th>\n",
       "      <th>No-show</th>\n",
       "    </tr>\n",
       "  </thead>\n",
       "  <tbody>\n",
       "    <tr>\n",
       "      <th>105343</th>\n",
       "      <td>9.769938e+10</td>\n",
       "      <td>5735639</td>\n",
       "      <td>1</td>\n",
       "      <td>11</td>\n",
       "      <td>0</td>\n",
       "      <td>0</td>\n",
       "      <td>0</td>\n",
       "      <td>0</td>\n",
       "      <td>0</td>\n",
       "      <td>1</td>\n",
       "      <td>1</td>\n",
       "    </tr>\n",
       "    <tr>\n",
       "      <th>9918</th>\n",
       "      <td>8.453243e+12</td>\n",
       "      <td>5661115</td>\n",
       "      <td>0</td>\n",
       "      <td>46</td>\n",
       "      <td>1</td>\n",
       "      <td>1</td>\n",
       "      <td>0</td>\n",
       "      <td>0</td>\n",
       "      <td>0</td>\n",
       "      <td>1</td>\n",
       "      <td>0</td>\n",
       "    </tr>\n",
       "    <tr>\n",
       "      <th>83281</th>\n",
       "      <td>2.154446e+13</td>\n",
       "      <td>5651949</td>\n",
       "      <td>0</td>\n",
       "      <td>67</td>\n",
       "      <td>0</td>\n",
       "      <td>1</td>\n",
       "      <td>1</td>\n",
       "      <td>0</td>\n",
       "      <td>0</td>\n",
       "      <td>0</td>\n",
       "      <td>0</td>\n",
       "    </tr>\n",
       "    <tr>\n",
       "      <th>74907</th>\n",
       "      <td>9.654886e+12</td>\n",
       "      <td>5619380</td>\n",
       "      <td>0</td>\n",
       "      <td>15</td>\n",
       "      <td>0</td>\n",
       "      <td>0</td>\n",
       "      <td>0</td>\n",
       "      <td>0</td>\n",
       "      <td>0</td>\n",
       "      <td>1</td>\n",
       "      <td>0</td>\n",
       "    </tr>\n",
       "    <tr>\n",
       "      <th>90815</th>\n",
       "      <td>9.782634e+14</td>\n",
       "      <td>5772936</td>\n",
       "      <td>1</td>\n",
       "      <td>62</td>\n",
       "      <td>1</td>\n",
       "      <td>0</td>\n",
       "      <td>0</td>\n",
       "      <td>0</td>\n",
       "      <td>0</td>\n",
       "      <td>0</td>\n",
       "      <td>0</td>\n",
       "    </tr>\n",
       "  </tbody>\n",
       "</table>\n",
       "</div>"
      ],
      "text/plain": [
       "           PatientId  AppointmentID  Gender  Age  Scholarship  Hypertension  \\\n",
       "105343  9.769938e+10        5735639       1   11            0             0   \n",
       "9918    8.453243e+12        5661115       0   46            1             1   \n",
       "83281   2.154446e+13        5651949       0   67            0             1   \n",
       "74907   9.654886e+12        5619380       0   15            0             0   \n",
       "90815   9.782634e+14        5772936       1   62            1             0   \n",
       "\n",
       "        Diabetes  Alcoholism  Handicap  SMS_received  No-show  \n",
       "105343         0           0         0             1        1  \n",
       "9918           0           0         0             1        0  \n",
       "83281          1           0         0             0        0  \n",
       "74907          0           0         0             1        0  \n",
       "90815          0           0         0             0        0  "
      ]
     },
     "execution_count": 16,
     "metadata": {},
     "output_type": "execute_result"
    }
   ],
   "source": [
    "# strip dataset of extranious information, focus on illness, gender, age, text message (SMS), and No-show condition\n",
    "\n",
    "df = df_clean.filter(items=['PatientId', 'AppointmentID', 'Gender', 'Age', 'Scholarship', \n",
    "                                   'Hypertension', 'Diabetes', 'Alcoholism', 'Handicap', 'SMS_received', 'No-show'])\n",
    "\n",
    "# do not convert the PatientId from float to int, it will error out because numbers are very big\n",
    "# df['PatientId'] = df['PatientId'].astype(int)\n",
    "df.sample(5)\n"
   ]
  },
  {
   "cell_type": "markdown",
   "metadata": {},
   "source": [
    "plotting help: https://stackoverflow.com/questions/43816122/how-to-represent-boolean-data-in-graph"
   ]
  },
  {
   "cell_type": "code",
   "execution_count": 17,
   "metadata": {},
   "outputs": [
    {
     "data": {
      "text/plain": [
       "(0.0, 110000.0)"
      ]
     },
     "execution_count": 17,
     "metadata": {},
     "output_type": "execute_result"
    },
    {
     "data": {
      "image/png": "[encoded data removed]",
      "text/plain": [
       "<Figure size 432x288 with 1 Axes>"
      ]
     },
     "metadata": {
      "needs_background": "light"
     },
     "output_type": "display_data"
    }
   ],
   "source": [
    "# No-show Appointments of patients with Scholarship\n",
    "df_clean['Scholarship'].value_counts().plot(kind='bar', title='No-show Appointments of patients with Scholarship', \n",
    "                                             ylabel='# of Patients', xlabel='Scholarship (No = 0 and Yes = 1)');\n",
    "plt.ylim(0, 110000)\n"
   ]
  },
  {
   "cell_type": "code",
   "execution_count": 18,
   "metadata": {},
   "outputs": [
    {
     "data": {
      "text/plain": [
       "(0.0, 110000.0)"
      ]
     },
     "execution_count": 18,
     "metadata": {},
     "output_type": "execute_result"
    },
    {
     "data": {
      "image/png": "[encoded data removed]",
      "text/plain": [
       "<Figure size 432x288 with 1 Axes>"
      ]
     },
     "metadata": {
      "needs_background": "light"
     },
     "output_type": "display_data"
    }
   ],
   "source": [
    "# No-show Appointments of patients with Scholarship\n",
    "df_clean['SMS_received'].value_counts().plot(kind='bar', title='No-show Appointments of patients with Scholarship', \n",
    "                                             ylabel='# of Patients', xlabel='SMS_recieved (No = 0 and Yes = 1');\n",
    "plt.ylim(0, 110000)"
   ]
  },
  {
   "cell_type": "code",
   "execution_count": 19,
   "metadata": {},
   "outputs": [
    {
     "data": {
      "text/plain": [
       "(0.0, 110000.0)"
      ]
     },
     "execution_count": 19,
     "metadata": {},
     "output_type": "execute_result"
    },
    {
     "data": {
      "image/png": "[encoded data removed]",
      "text/plain": [
       "<Figure size 432x288 with 1 Axes>"
      ]
     },
     "metadata": {
      "needs_background": "light"
     },
     "output_type": "display_data"
    }
   ],
   "source": [
    "# No-show Appointments of patients with Scholarship\n",
    "df_clean['Gender'].value_counts().plot(kind='bar', title='No-show Appointments of patients with Scholarship', \n",
    "                                             ylabel='# of Patients', xlabel='Gender (Female = 0 and Male = 1)');\n",
    "plt.ylim(0, 110000)"
   ]
  },
  {
   "cell_type": "markdown",
   "metadata": {},
   "source": [
    "Probability of **No-show** based on **Scholarship** review"
   ]
  },
  {
   "cell_type": "code",
   "execution_count": 20,
   "metadata": {},
   "outputs": [],
   "source": [
    "# fiter dataset to only show people that did NOT show up to appointment\n",
    "df_noShow = df.loc[df['No-show'] == 1]\n",
    "\n",
    "# fiter dataset to only show people that did show up to appointment\n",
    "df_show = df.loc[df['No-show'] == 0]"
   ]
  },
  {
   "cell_type": "code",
   "execution_count": 21,
   "metadata": {},
   "outputs": [
    {
     "name": "stdout",
     "output_type": "stream",
     "text": [
      "Probability of patient MISSING their appointment based on NO SCHOLARSHIP =  13.06%\n"
     ]
    }
   ],
   "source": [
    "df_noShow['Scholarship'].value_counts()\n",
    "a = df_noShow.query(\"Scholarship == 1\")['Scholarship'].sum()\n",
    "b = len(df_noShow) - a\n",
    "\n",
    "print('Probability of patient MISSING their appointment based on NO SCHOLARSHIP = ', '{0:.2%}'.format(a/b))\n",
    "\n",
    "# santity test for No-Show dataframe, to ensure that calculation method with variables a and b is correct\n",
    "assert a == 2578\n",
    "assert b == 19741"
   ]
  },
  {
   "cell_type": "code",
   "execution_count": 22,
   "metadata": {},
   "outputs": [
    {
     "data": {
      "text/plain": [
       "Scholarship\n",
       "0    79925\n",
       "1     8283\n",
       "Name: No-show, dtype: int64"
      ]
     },
     "execution_count": 22,
     "metadata": {},
     "output_type": "execute_result"
    }
   ],
   "source": [
    "test1 = df_show.groupby(['Scholarship'])['No-show'].count()\n",
    "test1"
   ]
  },
  {
   "cell_type": "code",
   "execution_count": 23,
   "metadata": {},
   "outputs": [
    {
     "name": "stdout",
     "output_type": "stream",
     "text": [
      "Probability of patient *MAKING* their appointment based on SCHOLARSHIP =  10.36%\n"
     ]
    }
   ],
   "source": [
    "df_show['Scholarship'].value_counts()\n",
    "a = df_show.query(\"Scholarship == 1\")['Scholarship'].sum()\n",
    "b = len(df_show) - a\n",
    "\n",
    "print('Probability of patient *MAKING* their appointment based on SCHOLARSHIP = ', '{0:.2%}'.format(a/b))\n",
    "\n",
    "# santity test for No-Show dataframe, to ensure that calculation method with variables a and b is correct\n",
    "assert a == 8283\n",
    "assert b == 79925"
   ]
  },
  {
   "cell_type": "markdown",
   "metadata": {},
   "source": [
    "<font color='blue'>\n",
    "\n",
    "#### There appears to be a be difference in the probability of of *No-show* appointments when considering if a patient *is or is NOT* on *Scholarship* by about 3%\n",
    "\n",
    "#### How about SMS text messages?\n",
    "    \n",
    "</font>"
   ]
  },
  {
   "cell_type": "code",
   "execution_count": 24,
   "metadata": {},
   "outputs": [
    {
     "data": {
      "text/plain": [
       "SMS_received\n",
       "0    12535\n",
       "1     9784\n",
       "Name: No-show, dtype: int64"
      ]
     },
     "execution_count": 24,
     "metadata": {},
     "output_type": "execute_result"
    }
   ],
   "source": [
    "test2 = df_noShow.groupby(['SMS_received'])['No-show'].count()\n",
    "test2"
   ]
  },
  {
   "cell_type": "code",
   "execution_count": 25,
   "metadata": {},
   "outputs": [
    {
     "name": "stdout",
     "output_type": "stream",
     "text": [
      "Probability of patient MISSING their appointment based on NO SMS_received =  78.05%\n"
     ]
    }
   ],
   "source": [
    "df_noShow['SMS_received'].value_counts()\n",
    "a = df_noShow.query(\"SMS_received == 1\")['SMS_received'].sum()\n",
    "b = len(df_noShow) - a\n",
    "\n",
    "print('Probability of patient MISSING their appointment based on NO SMS_received = ', '{0:.2%}'.format(a/b))\n",
    "\n",
    "# santity test for No-Show dataframe, to ensure that calculation method with variables a and b is correct\n",
    "assert a == 9784\n",
    "assert b == 12535"
   ]
  },
  {
   "cell_type": "code",
   "execution_count": 26,
   "metadata": {},
   "outputs": [
    {
     "data": {
      "text/plain": [
       "SMS_received\n",
       "0    62510\n",
       "1    25698\n",
       "Name: No-show, dtype: int64"
      ]
     },
     "execution_count": 26,
     "metadata": {},
     "output_type": "execute_result"
    }
   ],
   "source": [
    "test3 = df_show.groupby(['SMS_received'])['No-show'].count()\n",
    "test3"
   ]
  },
  {
   "cell_type": "code",
   "execution_count": 27,
   "metadata": {},
   "outputs": [
    {
     "name": "stdout",
     "output_type": "stream",
     "text": [
      "Probability of patient *MAKING* their appointment based on SMS_received =  41.11%\n"
     ]
    }
   ],
   "source": [
    "df_show['SMS_received'].value_counts()\n",
    "a = df_show.query(\"SMS_received == 1\")['SMS_received'].sum()\n",
    "b = len(df_show) - a\n",
    "\n",
    "print('Probability of patient *MAKING* their appointment based on SMS_received = ', '{0:.2%}'.format(a/b))\n",
    "\n",
    "# santity test for No-Show dataframe, to ensure that calculation method with variables a and b is correct\n",
    "assert a == 25698\n",
    "assert b == 62510"
   ]
  },
  {
   "cell_type": "markdown",
   "metadata": {},
   "source": [
    "<font color='blue'>\n",
    "    \n",
    "There appears to be a be difference in the probability of of **No-show** appointments when considering if a patient *is or is NOT* on **SMS_received** by about 37%!\n",
    "\n",
    "</font>"
   ]
  },
  {
   "cell_type": "markdown",
   "metadata": {},
   "source": [
    "### Research Question 2  - What illness contributes the greatest affect on \"No-show\" appointments?"
   ]
  },
  {
   "cell_type": "code",
   "execution_count": 28,
   "metadata": {},
   "outputs": [
    {
     "data": {
      "text/plain": [
       "PatientId        1.630232e+19\n",
       "AppointmentID    6.272744e+11\n",
       "Gender           3.868700e+04\n",
       "Age              4.099322e+06\n",
       "Scholarship      1.086100e+04\n",
       "Hypertension     2.180100e+04\n",
       "Diabetes         7.943000e+03\n",
       "Alcoholism       3.360000e+03\n",
       "Handicap         2.459000e+03\n",
       "SMS_received     3.548200e+04\n",
       "No-show          2.231900e+04\n",
       "dtype: float64"
      ]
     },
     "execution_count": 28,
     "metadata": {},
     "output_type": "execute_result"
    }
   ],
   "source": [
    "# determining which illness to drop --> Handicap\n",
    "df.sum(axis=0)"
   ]
  },
  {
   "cell_type": "code",
   "execution_count": 29,
   "metadata": {},
   "outputs": [
    {
     "name": "stdout",
     "output_type": "stream",
     "text": [
      "Optimization terminated successfully.\n",
      "         Current function value: 0.494957\n",
      "         Iterations 5\n"
     ]
    },
    {
     "data": {
      "text/html": [
       "<table class=\"simpletable\">\n",
       "<caption>Logit Regression Results</caption>\n",
       "<tr>\n",
       "  <th>Dep. Variable:</th>        <td>No-show</td>     <th>  No. Observations:  </th>  <td>110527</td> \n",
       "</tr>\n",
       "<tr>\n",
       "  <th>Model:</th>                 <td>Logit</td>      <th>  Df Residuals:      </th>  <td>110524</td> \n",
       "</tr>\n",
       "<tr>\n",
       "  <th>Method:</th>                 <td>MLE</td>       <th>  Df Model:          </th>  <td>     2</td> \n",
       "</tr>\n",
       "<tr>\n",
       "  <th>Date:</th>            <td>Tue, 23 Feb 2021</td> <th>  Pseudo R-squ.:     </th>  <td>0.01613</td>\n",
       "</tr>\n",
       "<tr>\n",
       "  <th>Time:</th>                <td>18:58:11</td>     <th>  Log-Likelihood:    </th> <td> -54706.</td>\n",
       "</tr>\n",
       "<tr>\n",
       "  <th>converged:</th>             <td>True</td>       <th>  LL-Null:           </th> <td> -55603.</td>\n",
       "</tr>\n",
       "<tr>\n",
       "  <th>Covariance Type:</th>     <td>nonrobust</td>    <th>  LLR p-value:       </th>  <td> 0.000</td> \n",
       "</tr>\n",
       "</table>\n",
       "<table class=\"simpletable\">\n",
       "<tr>\n",
       "        <td></td>          <th>coef</th>     <th>std err</th>      <th>z</th>      <th>P>|z|</th>  <th>[0.025</th>    <th>0.975]</th>  \n",
       "</tr>\n",
       "<tr>\n",
       "  <th>intercept</th>    <td>   -1.6314</td> <td>    0.010</td> <td> -160.622</td> <td> 0.000</td> <td>   -1.651</td> <td>   -1.611</td>\n",
       "</tr>\n",
       "<tr>\n",
       "  <th>Scholarship</th>  <td>    0.2339</td> <td>    0.024</td> <td>    9.694</td> <td> 0.000</td> <td>    0.187</td> <td>    0.281</td>\n",
       "</tr>\n",
       "<tr>\n",
       "  <th>SMS_received</th> <td>    0.6415</td> <td>    0.015</td> <td>   41.661</td> <td> 0.000</td> <td>    0.611</td> <td>    0.672</td>\n",
       "</tr>\n",
       "</table>"
      ],
      "text/plain": [
       "<class 'statsmodels.iolib.summary.Summary'>\n",
       "\"\"\"\n",
       "                           Logit Regression Results                           \n",
       "==============================================================================\n",
       "Dep. Variable:                No-show   No. Observations:               110527\n",
       "Model:                          Logit   Df Residuals:                   110524\n",
       "Method:                           MLE   Df Model:                            2\n",
       "Date:                Tue, 23 Feb 2021   Pseudo R-squ.:                 0.01613\n",
       "Time:                        18:58:11   Log-Likelihood:                -54706.\n",
       "converged:                       True   LL-Null:                       -55603.\n",
       "Covariance Type:            nonrobust   LLR p-value:                     0.000\n",
       "================================================================================\n",
       "                   coef    std err          z      P>|z|      [0.025      0.975]\n",
       "--------------------------------------------------------------------------------\n",
       "intercept       -1.6314      0.010   -160.622      0.000      -1.651      -1.611\n",
       "Scholarship      0.2339      0.024      9.694      0.000       0.187       0.281\n",
       "SMS_received     0.6415      0.015     41.661      0.000       0.611       0.672\n",
       "================================================================================\n",
       "\"\"\""
      ]
     },
     "execution_count": 29,
     "metadata": {},
     "output_type": "execute_result"
    }
   ],
   "source": [
    "# focus on Scholarship and SMS_Recieved\n",
    "# multiple logistic regression\n",
    "df['intercept'] = 1\n",
    "logit_mod = sm.Logit(df['No-show'], df[['intercept', 'Scholarship', 'SMS_received']])\n",
    "results = logit_mod.fit()\n",
    "results.summary()"
   ]
  },
  {
   "cell_type": "code",
   "execution_count": 30,
   "metadata": {},
   "outputs": [
    {
     "data": {
      "text/plain": [
       "intercept       0.195664\n",
       "Scholarship     1.263476\n",
       "SMS_received    1.899391\n",
       "dtype: float64"
      ]
     },
     "execution_count": 30,
     "metadata": {},
     "output_type": "execute_result"
    }
   ],
   "source": [
    "# take exponential to understand results\n",
    "np.exp(results.params)"
   ]
  },
  {
   "cell_type": "code",
   "execution_count": 31,
   "metadata": {},
   "outputs": [
    {
     "data": {
      "text/plain": [
       "intercept       5.110807\n",
       "Scholarship     0.791468\n",
       "SMS_received    0.526485\n",
       "dtype: float64"
      ]
     },
     "execution_count": 31,
     "metadata": {},
     "output_type": "execute_result"
    }
   ],
   "source": [
    "1/_"
   ]
  },
  {
   "cell_type": "code",
   "execution_count": 32,
   "metadata": {},
   "outputs": [
    {
     "name": "stdout",
     "output_type": "stream",
     "text": [
      "Optimization terminated successfully.\n",
      "         Current function value: 0.502409\n",
      "         Iterations 5\n"
     ]
    },
    {
     "data": {
      "text/html": [
       "<table class=\"simpletable\">\n",
       "<caption>Logit Regression Results</caption>\n",
       "<tr>\n",
       "  <th>Dep. Variable:</th>        <td>No-show</td>     <th>  No. Observations:  </th>  <td>110527</td>  \n",
       "</tr>\n",
       "<tr>\n",
       "  <th>Model:</th>                 <td>Logit</td>      <th>  Df Residuals:      </th>  <td>110523</td>  \n",
       "</tr>\n",
       "<tr>\n",
       "  <th>Method:</th>                 <td>MLE</td>       <th>  Df Model:          </th>  <td>     3</td>  \n",
       "</tr>\n",
       "<tr>\n",
       "  <th>Date:</th>            <td>Tue, 23 Feb 2021</td> <th>  Pseudo R-squ.:     </th> <td>0.001313</td> \n",
       "</tr>\n",
       "<tr>\n",
       "  <th>Time:</th>                <td>18:58:11</td>     <th>  Log-Likelihood:    </th> <td> -55530.</td> \n",
       "</tr>\n",
       "<tr>\n",
       "  <th>converged:</th>             <td>True</td>       <th>  LL-Null:           </th> <td> -55603.</td> \n",
       "</tr>\n",
       "<tr>\n",
       "  <th>Covariance Type:</th>     <td>nonrobust</td>    <th>  LLR p-value:       </th> <td>1.910e-31</td>\n",
       "</tr>\n",
       "</table>\n",
       "<table class=\"simpletable\">\n",
       "<tr>\n",
       "        <td></td>          <th>coef</th>     <th>std err</th>      <th>z</th>      <th>P>|z|</th>  <th>[0.025</th>    <th>0.975]</th>  \n",
       "</tr>\n",
       "<tr>\n",
       "  <th>intercept</th>    <td>   -1.3318</td> <td>    0.008</td> <td> -159.690</td> <td> 0.000</td> <td>   -1.348</td> <td>   -1.315</td>\n",
       "</tr>\n",
       "<tr>\n",
       "  <th>Hypertension</th> <td>   -0.2365</td> <td>    0.022</td> <td>  -10.781</td> <td> 0.000</td> <td>   -0.280</td> <td>   -0.194</td>\n",
       "</tr>\n",
       "<tr>\n",
       "  <th>Diabetes</th>     <td>    0.0043</td> <td>    0.034</td> <td>    0.127</td> <td> 0.899</td> <td>   -0.061</td> <td>    0.070</td>\n",
       "</tr>\n",
       "<tr>\n",
       "  <th>Alcoholism</th>   <td>    0.0438</td> <td>    0.044</td> <td>    0.999</td> <td> 0.318</td> <td>   -0.042</td> <td>    0.130</td>\n",
       "</tr>\n",
       "</table>"
      ],
      "text/plain": [
       "<class 'statsmodels.iolib.summary.Summary'>\n",
       "\"\"\"\n",
       "                           Logit Regression Results                           \n",
       "==============================================================================\n",
       "Dep. Variable:                No-show   No. Observations:               110527\n",
       "Model:                          Logit   Df Residuals:                   110523\n",
       "Method:                           MLE   Df Model:                            3\n",
       "Date:                Tue, 23 Feb 2021   Pseudo R-squ.:                0.001313\n",
       "Time:                        18:58:11   Log-Likelihood:                -55530.\n",
       "converged:                       True   LL-Null:                       -55603.\n",
       "Covariance Type:            nonrobust   LLR p-value:                 1.910e-31\n",
       "================================================================================\n",
       "                   coef    std err          z      P>|z|      [0.025      0.975]\n",
       "--------------------------------------------------------------------------------\n",
       "intercept       -1.3318      0.008   -159.690      0.000      -1.348      -1.315\n",
       "Hypertension    -0.2365      0.022    -10.781      0.000      -0.280      -0.194\n",
       "Diabetes         0.0043      0.034      0.127      0.899      -0.061       0.070\n",
       "Alcoholism       0.0438      0.044      0.999      0.318      -0.042       0.130\n",
       "================================================================================\n",
       "\"\"\""
      ]
     },
     "execution_count": 32,
     "metadata": {},
     "output_type": "execute_result"
    }
   ],
   "source": [
    "# just focus on the illnesses\n",
    "# multiple linear regression\n",
    "# drop handicap because of lowest count\n",
    "df['intercept'] = 1\n",
    "logit_mod = sm.Logit(df['No-show'], df[['intercept', 'Hypertension', 'Diabetes', 'Alcoholism']])\n",
    "results = logit_mod.fit()\n",
    "results.summary()"
   ]
  },
  {
   "cell_type": "code",
   "execution_count": 33,
   "metadata": {},
   "outputs": [
    {
     "data": {
      "text/plain": [
       "intercept       0.263994\n",
       "Hypertension    0.789368\n",
       "Diabetes        1.004278\n",
       "Alcoholism      1.044811\n",
       "dtype: float64"
      ]
     },
     "execution_count": 33,
     "metadata": {},
     "output_type": "execute_result"
    }
   ],
   "source": [
    "# take exponential to understand results\n",
    "np.exp(results.params)"
   ]
  },
  {
   "cell_type": "code",
   "execution_count": 34,
   "metadata": {},
   "outputs": [
    {
     "data": {
      "text/plain": [
       "intercept       3.787962\n",
       "Hypertension    1.266836\n",
       "Diabetes        0.995740\n",
       "Alcoholism      0.957111\n",
       "dtype: float64"
      ]
     },
     "execution_count": 34,
     "metadata": {},
     "output_type": "execute_result"
    }
   ],
   "source": [
    "1/_"
   ]
  },
  {
   "cell_type": "markdown",
   "metadata": {},
   "source": [
    "<font color='blue'>\n",
    "    \n",
    "#### It appears that 'Hypertension' and 'Diabetes' contribute the greatest affect on 'No-show' appointments--when compared to 'Handicap' and 'Alcoholism'.\n",
    "\n",
    "#### Let's verify those percentages below:\n",
    "    \n",
    "</font>"
   ]
  },
  {
   "cell_type": "code",
   "execution_count": 35,
   "metadata": {},
   "outputs": [],
   "source": [
    "# function proportion calculator\n",
    "\n",
    "# calculator for determine patients MISSING their appointment\n",
    "def sickCalc_noShow(illness, illState):\n",
    "    df_noShow[illness].value_counts()\n",
    "    a = df_noShow.query(illState)[illness].sum()\n",
    "    b = len(df_noShow) - a\n",
    "    return print('Probability of patient MISSING their appointment based on NO SMS_received = ', '{0:.2%}'.format(a/b))\n",
    "\n",
    "# calculator for determine patients *MAKING* their appointment\n",
    "def sickCalc_show(illness, illState):\n",
    "    df_show[illness].value_counts()\n",
    "    a = df_show.query(illState)[illness].sum()\n",
    "    b = len(df_show) - a\n",
    "    return print('Probability of patient *MAKING* their appointment based on SMS_received = ', '{0:.2%}'.format(a/b),'\\n')\n",
    "\n",
    "#sickCalc('Hypertension', \"Hypertension == 1\")             \n",
    "               "
   ]
  },
  {
   "cell_type": "code",
   "execution_count": 36,
   "metadata": {},
   "outputs": [
    {
     "name": "stdout",
     "output_type": "stream",
     "text": [
      "Probability of patient MISSING their appointment based on NO SMS_received =  20.34%\n",
      "Probability of patient *MAKING* their appointment based on SMS_received =  25.69% \n",
      "\n",
      "Probability of patient MISSING their appointment based on NO SMS_received =  6.85%\n",
      "Probability of patient *MAKING* their appointment based on SMS_received =  7.97% \n",
      "\n",
      "Probability of patient MISSING their appointment based on NO SMS_received =  1.67%\n",
      "Probability of patient *MAKING* their appointment based on SMS_received =  1.94% \n",
      "\n",
      "Probability of patient MISSING their appointment based on NO SMS_received =  3.13%\n",
      "Probability of patient *MAKING* their appointment based on SMS_received =  3.14% \n",
      "\n"
     ]
    }
   ],
   "source": [
    "# Hypertension probability\n",
    "sickCalc_noShow('Hypertension', \"Hypertension == 1\")\n",
    "sickCalc_show('Hypertension', \"Hypertension == 1\") \n",
    "\n",
    "# Diabetes\n",
    "sickCalc_noShow('Diabetes', \"Diabetes == 1\")\n",
    "sickCalc_show('Diabetes', \"Diabetes == 1\") \n",
    "\n",
    "# Handicap\n",
    "sickCalc_noShow('Handicap', \"Handicap == 1\")\n",
    "sickCalc_show('Handicap', \"Handicap == 1\") \n",
    "\n",
    "# Alcoholism\n",
    "sickCalc_noShow('Alcoholism', \"Alcoholism == 1\")\n",
    "sickCalc_show('Alcoholism', \"Alcoholism == 1\") "
   ]
  },
  {
   "cell_type": "markdown",
   "metadata": {},
   "source": [
    "<a id='conclusions'></a>\n",
    "## Conclusions\n",
    "\n",
    "<font color='blue'>\n",
    "    \n",
    "Plots of Scholarship, SMS_received, and Gender, resulted with the following observations:\n",
    "1. Despite having a scholarships, patients still tend to miss their appointments--greatest disparity is shown here too\n",
    "2. Despite receiving a SMS text, patients still tend to miss there appointments\n",
    "3. Males tend to miss appointments more than Females\n",
    "\n",
    "Results indicate a notable affect with SMS text being sent to patient in determine if a patient is a 'No-show' when compared to other factors. The patient is almost 78% more likely to NOT make their appointment if a SMS text reminder is NOT sent.\n",
    "\n",
    "Multi-variable logistic analysis of the various illnesses, pateints with 'Hypertension' tend to NOT make their appointment when compared to the other three illnesses. \n",
    "\n",
    "Limitations considered for this analysis: study did not consider age of the patient or location.\n",
    "\n",
    "</font>"
   ]
  }
 ],
 "metadata": {
  "kernelspec": {
   "display_name": "Python 3",
   "language": "python",
   "name": "python3"
  },
  "language_info": {
   "codemirror_mode": {
    "name": "ipython",
    "version": 3
   },
   "file_extension": ".py",
   "mimetype": "text/x-python",
   "name": "python",
   "nbconvert_exporter": "python",
   "pygments_lexer": "ipython3",
   "version": "3.8.5"
  }
 },
 "nbformat": 4,
 "nbformat_minor": 2
}
